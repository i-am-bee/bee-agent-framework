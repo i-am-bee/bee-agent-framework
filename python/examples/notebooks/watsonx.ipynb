{
 "cells": [
  {
   "cell_type": "markdown",
   "metadata": {},
   "source": [
    "# watsonx X BeeAI \n",
    "\n",
    "This notebook showcases a series of examples that demonstrate how to integrate BeeAI with watsonx.\n",
    "\n",
    "To run these examples, you'll need a set of watsonx credentials:\n",
    "\n",
    "- WATSONX_API_KEY\n",
    "- WATSONX_PROJECT_ID\n",
    "- WATSONX_API_URL\n",
    "\n",
    "Please enter your credentials in the next cell before proceeding."
   ]
  },
  {
   "cell_type": "code",
   "execution_count": null,
   "metadata": {},
   "outputs": [],
   "source": [
    "WATSONX_API_KEY = \"\"\n",
    "WATSONX_PROJECT_ID = \"\"\n",
    "WATSONX_API_URL = \"\""
   ]
  },
  {
   "cell_type": "markdown",
   "metadata": {},
   "source": [
    "## WatsonX ChatModel\n",
    "\n",
    "This example demonstrates how to create a ChatModel to interface with the ibm/granite-3-8b-instruct model from watsonx."
   ]
  },
  {
   "cell_type": "code",
   "execution_count": 8,
   "metadata": {},
   "outputs": [
    {
     "name": "stdout",
     "output_type": "stream",
     "text": [
      "Quantum computing is a type of computation that leverages the principles of quantum mechanics to process information. Unlike classical computers that use bits (0s and 1s) to process data, quantum computers use quantum bits, or qubits. Qubits can exist in multiple states at once, thanks to a property called superposition, and can also be entangled, meaning the state of one qubit can be dependent on the state of another, no matter the distance between them. This allows quantum computers to perform certain calculations much faster than classical computers.\n",
      "\n",
      "To illustrate, consider a scenario where you need to search through an unsorted phone book with a million entries to find a specific person's name. A classical computer would have to theoretically check each entry one by one until it found the name, taking up to a million steps. A quantum computer, using an algorithm like Grover's, could potentially solve this problem in roughly 1,000 steps. This is a simplification, as quantum computers aren't universally faster and face significant technical challenges, but it gives you the basic idea.\n",
      "\n",
      "Another famous example is Shor's algorithm, used for factoring large numbers into primes, which is central to many cryptographic systems. While classical computers would take an incredibly long time for very large numbers, a sufficiently powerful quantum computer could perform this task relatively quickly, effectively breaking many of our current encryption methods.\n"
     ]
    }
   ],
   "source": [
    "from beeai_framework.backend.chat import ChatModel, ChatModelInput, ChatModelOutput\n",
    "from beeai_framework.backend.message import UserMessage\n",
    "\n",
    "# Create a ChatModel to interface with ibm/granite-3-8b-instruct from watsonx\n",
    "model = await ChatModel.from_name(\n",
    "    \"watsonx:ibm/granite-3-8b-instruct\",\n",
    "    options={\n",
    "        \"project_id\": WATSONX_PROJECT_ID,\n",
    "        \"api_key\": WATSONX_API_KEY,\n",
    "        \"api_base\": WATSONX_API_URL,\n",
    "    },\n",
    ")\n",
    "\n",
    "message = UserMessage(content=\"Briefly explain quantum computing in simple terms with an example.\")\n",
    "output: ChatModelOutput = await model.create(ChatModelInput(messages=[message]))\n",
    "\n",
    "print(output.get_text_content())"
   ]
  },
  {
   "cell_type": "markdown",
   "metadata": {},
   "source": [
    "## Structured Outputs With watsonx\n",
    "\n",
    "This example demonstrates how to generate structured output using the ibm/granite-3-8b-instruct model from watsonx."
   ]
  },
  {
   "cell_type": "code",
   "execution_count": 9,
   "metadata": {},
   "outputs": [
    {
     "name": "stdout",
     "output_type": "stream",
     "text": [
      "{\n",
      "    \"author\": \"Frank Herbert\",\n",
      "    \"plot_summary\": \"Set in the distant future, 'Dune' is an epic science fiction novel that explores a complex and intricate universe steeped in political intrigue, religious mysticism, and ecological sustainability. The story is centered on young Paul Atreides, whose family assumes control over the desert planet Arrakis, the only source of the most valuable substance in the universe, the spice melange. This substance grants time-perception expansion, navigation beyond physical barriers, and even, to those who consume enough of it, prescience. The Bene Gesserit, a powerful and secretive sisterhood, and the noble houses of the Landsraad all have vested interests in the spice trade, making Arrakis a strategically and politically significant territory.\\n\\nRelocating the Atreides to Arrakis, the ruthless Emperor Shaddam IV aims to undermine their influence by aligning himself with Paul's archrivals, the Harkonnens, who have long ruled the planet. The transition is fraught with danger, as the harsh conditions of the desert planet challenge Paul, his family, and their entourage. Simultaneously, Paul must navigate his own burgeoning abilities, prophecies, and the destiny of becoming a messiah-like figure among the native Fremen, the indigenous people of Arrakis.\\n\\nThroughout his journey, Paul learns the ways of the desert, the importance of water, and the intricate social structures of the Fremen. He gains their trust and allegiance, forming a formidable power that turns the tides in his family's seemingly lost struggle against the Harkonnens. Amidst a backdrop of betrayal, political conspiracy, and the increasing weight of his own abilities, Paul embraces his role as leader of the Fremen in their fight for independence and survival on Arrakis.\\n\\n'Dune' is a masterclass in world-building, character development, and thematic depth. Herbert weaves together religion, ecology, power dynamics, and the concept of prophecy to create an immersive and enduring science fiction classic.\",\n",
      "    \"title\": \"Dune\"\n",
      "}\n"
     ]
    }
   ],
   "source": [
    "import json\n",
    "\n",
    "from pydantic import BaseModel, Field\n",
    "\n",
    "\n",
    "# The output structure definition, note the field descriptions that can help the LLM to understand the intention of the field.\n",
    "class BookDetailsSchema(BaseModel):\n",
    "    title: str = Field(description=\"The title of the book.\")\n",
    "    author: str = Field(description=\"The author of the book.\")\n",
    "    plot_summary: str = Field(description=\"A brief summary of the plot.\")\n",
    "\n",
    "\n",
    "user_message = UserMessage(\"Provide a summary of the following book: 'Dune' by Frank Herbert.\")\n",
    "\n",
    "response = await model.create_structure(\n",
    "    {\n",
    "        \"schema\": BookDetailsSchema,\n",
    "        \"messages\": [user_message],\n",
    "    }\n",
    ")\n",
    "\n",
    "print(json.dumps(response.object, indent=4))"
   ]
  }
 ],
 "metadata": {
  "kernelspec": {
   "display_name": ".venv",
   "language": "python",
   "name": "python3"
  },
  "language_info": {
   "codemirror_mode": {
    "name": "ipython",
    "version": 3
   },
   "file_extension": ".py",
   "mimetype": "text/x-python",
   "name": "python",
   "nbconvert_exporter": "python",
   "pygments_lexer": "ipython3",
   "version": "3.12.6"
  }
 },
 "nbformat": 4,
 "nbformat_minor": 2
}
